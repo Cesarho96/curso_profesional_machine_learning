{
 "cells": [
  {
   "cell_type": "code",
   "execution_count": 9,
   "id": "2a93a2c9",
   "metadata": {},
   "outputs": [],
   "source": [
    "import pandas as pd\n",
    "from sklearn.neighbors import KNeighborsClassifier\n",
    "from sklearn.ensemble import BaggingClassifier, RandomForestClassifier\n",
    "from sklearn.svm import LinearSVC, SVC\n",
    "from sklearn.linear_model import SGDClassifier, LogisticRegression\n",
    "from sklearn.tree import DecisionTreeClassifier\n",
    "from sklearn.model_selection import train_test_split\n",
    "from sklearn.metrics import accuracy_score\n",
    "import warnings\n",
    "\n",
    "warnings.filterwarnings(\"ignore\")"
   ]
  },
  {
   "cell_type": "code",
   "execution_count": 10,
   "id": "c012b695",
   "metadata": {},
   "outputs": [
    {
     "name": "stdout",
     "output_type": "stream",
     "text": [
      "target\n",
      "1    526\n",
      "0    499\n",
      "Name: count, dtype: int64\n",
      "================================================================\n"
     ]
    }
   ],
   "source": [
    "df_heart = pd.read_csv('../inputs/heart.csv')\n",
    "print(df_heart['target'].value_counts())\n",
    "print('=' * 64)\n",
    "X = df_heart.drop(['target'], axis=1)\n",
    "y = df_heart['target']\n",
    "X_train, X_test, y_train, y_test = train_test_split(X, y, test_size=0.3)\n",
    "\n",
    "classifiers = {\n",
    "    'KNeighbors': KNeighborsClassifier(),\n",
    "    'LogisticRegression': LogisticRegression(),\n",
    "    'LinearSCV': LinearSVC(),\n",
    "    'SVC': SVC(),\n",
    "    'SGDC': SGDClassifier(),\n",
    "    'DecisionTree': DecisionTreeClassifier(),\n",
    "    'RandomTreeForest' : RandomForestClassifier(random_state=0)\n",
    "}"
   ]
  },
  {
   "cell_type": "code",
   "execution_count": 11,
   "id": "b1f1da30",
   "metadata": {},
   "outputs": [
    {
     "name": "stdout",
     "output_type": "stream",
     "text": [
      "Base Results:\n",
      "KNeighbors's Accuracy: 0.7305194805194806\n",
      "================================================================\n",
      "LogisticRegression's Accuracy: 0.8506493506493507\n",
      "================================================================\n",
      "LinearSCV's Accuracy: 0.8441558441558441\n",
      "================================================================\n",
      "SVC's Accuracy: 0.6363636363636364\n",
      "================================================================\n",
      "SGDC's Accuracy: 0.7142857142857143\n",
      "================================================================\n",
      "DecisionTree's Accuracy: 1.0\n",
      "================================================================\n",
      "RandomTreeForest's Accuracy: 0.9902597402597403\n",
      "================================================================\n"
     ]
    }
   ],
   "source": [
    "print(\"Base Results:\")\n",
    "for name, model in classifiers.items():\n",
    "    model.fit(X_train, y_train)\n",
    "    y_pred = model.predict(X_test)\n",
    "    print(f\"{name}'s Accuracy:\", accuracy_score(y_pred, y_test))\n",
    "    print('=' * 64)"
   ]
  },
  {
   "cell_type": "code",
   "execution_count": 12,
   "id": "e043a597",
   "metadata": {},
   "outputs": [
    {
     "name": "stdout",
     "output_type": "stream",
     "text": [
      "Bagging Results:\n",
      "KNeighbors's Accuracy: 0.788961038961039\n",
      "================================================================\n",
      "LogisticRegression's Accuracy: 0.8474025974025974\n",
      "================================================================\n",
      "LinearSCV's Accuracy: 0.8441558441558441\n",
      "================================================================\n",
      "SVC's Accuracy: 0.6428571428571429\n",
      "================================================================\n",
      "SGDC's Accuracy: 0.6428571428571429\n",
      "================================================================\n",
      "DecisionTree's Accuracy: 0.9902597402597403\n",
      "================================================================\n",
      "RandomTreeForest's Accuracy: 0.9805194805194806\n",
      "================================================================\n"
     ]
    }
   ],
   "source": [
    "print(\"Bagging Results:\")\n",
    "for name, estimator in classifiers.items():\n",
    "    bag_class = BaggingClassifier(estimator=estimator, n_estimators=30)\n",
    "    bag_class.fit(X_train, y_train)\n",
    "    y_pred = bag_class.predict(X_test)\n",
    "    print(f\"{name}'s Accuracy:\", accuracy_score(y_pred, y_test))\n",
    "    print('=' * 64)"
   ]
  },
  {
   "cell_type": "code",
   "execution_count": null,
   "id": "bab9da67",
   "metadata": {},
   "outputs": [],
   "source": []
  },
  {
   "cell_type": "code",
   "execution_count": null,
   "id": "c24f53ac",
   "metadata": {},
   "outputs": [],
   "source": []
  }
 ],
 "metadata": {
  "kernelspec": {
   "display_name": ".entorno",
   "language": "python",
   "name": "python3"
  },
  "language_info": {
   "codemirror_mode": {
    "name": "ipython",
    "version": 3
   },
   "file_extension": ".py",
   "mimetype": "text/x-python",
   "name": "python",
   "nbconvert_exporter": "python",
   "pygments_lexer": "ipython3",
   "version": "3.11.9"
  }
 },
 "nbformat": 4,
 "nbformat_minor": 5
}
