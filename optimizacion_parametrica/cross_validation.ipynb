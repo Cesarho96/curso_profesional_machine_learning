{
 "cells": [
  {
   "cell_type": "code",
   "execution_count": 1,
   "id": "3b9817e8",
   "metadata": {},
   "outputs": [],
   "source": [
    "import pandas as pd\n",
    "import numpy as np\n",
    "from sklearn.tree import DecisionTreeRegressor\n",
    "from sklearn.model_selection import cross_val_score, KFold\n",
    "from sklearn.metrics import mean_squared_error"
   ]
  },
  {
   "cell_type": "code",
   "execution_count": 2,
   "id": "fd91f8f0",
   "metadata": {},
   "outputs": [],
   "source": [
    "def train_test_split_kf(data: np.array, target: np.array, train: np.array, test: np.array) -> np.array:\n",
    "    x_train = data[train]\n",
    "    x_test = data[test]\n",
    "    y_train = target[train]\n",
    "    y_test = target[test]\n",
    "    return x_train, x_test, y_train, y_test\n",
    "\n",
    "\n",
    "def evaluate_model(model, metric, x_train, x_test, y_train, y_test):\n",
    "    model.fit(x_train, y_train)\n",
    "    y_pred = model.predict(x_test)\n",
    "    score = metric(y_pred, y_test)\n",
    "    return score"
   ]
  },
  {
   "cell_type": "code",
   "execution_count": 3,
   "id": "447f73d9",
   "metadata": {},
   "outputs": [
    {
     "name": "stdout",
     "output_type": "stream",
     "text": [
      "---- Easy Implementation ----\n",
      "Scores: [-0.18994313 -0.03374152 -0.01686481 -0.03322507 -0.01842594 -0.0079535\n",
      " -0.02255674 -0.02900939 -0.20707588 -0.23440295]\n",
      "Mean score:  0.0793198949591584\n",
      "================================================================\n"
     ]
    }
   ],
   "source": [
    "dataset = pd.read_csv(\"../inputs/felicidad.csv\")\n",
    "data = dataset.drop([\"country\", \"score\", \"rank\"], axis=1)\n",
    "target = dataset[\"score\"]\n",
    "\n",
    "models = {\"DecisionTreeRegressor\": DecisionTreeRegressor()}\n",
    "print('---- Easy Implementation ----')\n",
    "for name, model in models.items():\n",
    "    score = cross_val_score(model, data, target, cv=10, scoring='neg_mean_squared_error')\n",
    "    print(\"Scores:\", score)\n",
    "    print(\"Mean score: \", np.abs(np.mean(score)))\n",
    "print(\"=\" * 64)"
   ]
  },
  {
   "cell_type": "code",
   "execution_count": 4,
   "id": "5e3196c8",
   "metadata": {},
   "outputs": [
    {
     "name": "stdout",
     "output_type": "stream",
     "text": [
      "---- Full Implementation ----\n",
      "I'm evaluating: DecisionTreeRegressor\n",
      "\t-I'm running fold 1\n",
      "\t\t-score: 0.0070418713211488375\n",
      "\t-I'm running fold 2\n",
      "\t\t-score: 0.0016953167941594197\n",
      "\t-I'm running fold 3\n",
      "\t\t-score: 0.003756071682912264\n",
      "\t-I'm running fold 4\n",
      "\t\t-score: 0.004785132517031086\n",
      "\t-I'm running fold 5\n",
      "\t\t-score: 0.002910249300917606\n",
      "\t-I'm running fold 6\n",
      "\t\t-score: 0.004251211268422317\n",
      "\t-I'm running fold 7\n",
      "\t\t-score: 0.00910051990402171\n",
      "\t-I'm running fold 8\n",
      "\t\t-score: 0.002800343457380497\n",
      "\t-I'm running fold 9\n",
      "\t\t-score: 0.0034541374997825286\n",
      "\t-I'm running fold 10\n",
      "\t\t-score: 0.0044419952459016756\n",
      "================================================================\n",
      "Scores: [0.0070418713211488375, 0.0016953167941594197, 0.003756071682912264, 0.004785132517031086, 0.002910249300917606, 0.004251211268422317, 0.00910051990402171, 0.002800343457380497, 0.0034541374997825286, 0.0044419952459016756]\n",
      "Mean score:  0.004423684899167795\n"
     ]
    }
   ],
   "source": [
    "kf = KFold(n_splits=10, shuffle=True, random_state=42)\n",
    "scores = []\n",
    "print('---- Full Implementation ----')\n",
    "for name, model in models.items():\n",
    "    print(f\"I'm evaluating: {name}\")\n",
    "    for n_fold, (train, test) in enumerate(kf.split(data)):\n",
    "        print(f\"\\t-I'm running fold {n_fold + 1}\")\n",
    "        x_train, x_test, y_train, y_test = train_test_split_kf(data.values, target.values, train, test)\n",
    "        score = evaluate_model(model, mean_squared_error, x_train, x_test, y_train, y_test)\n",
    "        print(\"\\t\\t-score:\", score)\n",
    "        scores.append(score)\n",
    "    print(\"=\"*64)\n",
    "    print(\"Scores:\", scores)\n",
    "    print(\"Mean score: \", np.mean(scores))"
   ]
  },
  {
   "cell_type": "code",
   "execution_count": null,
   "id": "174bc7ac",
   "metadata": {},
   "outputs": [],
   "source": []
  }
 ],
 "metadata": {
  "kernelspec": {
   "display_name": ".entorno",
   "language": "python",
   "name": "python3"
  },
  "language_info": {
   "codemirror_mode": {
    "name": "ipython",
    "version": 3
   },
   "file_extension": ".py",
   "mimetype": "text/x-python",
   "name": "python",
   "nbconvert_exporter": "python",
   "pygments_lexer": "ipython3",
   "version": "3.11.9"
  }
 },
 "nbformat": 4,
 "nbformat_minor": 5
}
