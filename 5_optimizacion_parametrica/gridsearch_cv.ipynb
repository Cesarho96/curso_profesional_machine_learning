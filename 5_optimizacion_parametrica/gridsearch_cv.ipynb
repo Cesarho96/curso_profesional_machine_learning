{
 "cells": [
  {
   "cell_type": "code",
   "execution_count": 2,
   "id": "596b57c8",
   "metadata": {},
   "outputs": [],
   "source": [
    "import pandas as pd\n",
    "from sklearn.model_selection import GridSearchCV\n",
    "from sklearn.ensemble import RandomForestRegressor"
   ]
  },
  {
   "cell_type": "code",
   "execution_count": 3,
   "id": "878f9d57",
   "metadata": {},
   "outputs": [],
   "source": [
    "dataset = pd.read_csv(\"../inputs/felicidad.csv\")\n",
    "# La razón de eliminar el rank y el score,\n",
    "# es porque se quiere que los features no tengan ninguna correlación entre ellos.\n",
    "# Lo ideal es que exista correlación solo entre las features y la variable objetivo.\n",
    "X = dataset.drop(['country', 'rank', 'score'], axis=1)\n",
    "y = dataset['score']\n",
    "reg = RandomForestRegressor()"
   ]
  },
  {
   "cell_type": "code",
   "execution_count": 6,
   "id": "0b96556c",
   "metadata": {},
   "outputs": [],
   "source": [
    "parametros = {\n",
    "        # Número de árboles en el bosque\n",
    "        'n_estimators': [10, 50, 100],\n",
    "\n",
    "        # Criterio utilizado para medir la calidad de una división\n",
    "        'criterion': ['friedman_mse', 'squared_error', 'poisson', 'absolute_error'],  # 'mse': error cuadrático medio, 'mae': error absoluto medio\n",
    "\n",
    "        # Profundidad máxima de los árboles en el bosque\n",
    "        'max_depth': [None, 10, 20],\n",
    "\n",
    "        # Número mínimo de muestras requeridas para dividir un nodo interno\n",
    "        'min_samples_split': [2, 5, 10],\n",
    "\n",
    "        # Número mínimo de muestras requeridas para estar en un nodo hoja\n",
    "        'min_samples_leaf': [1, 2, 4],\n",
    "\n",
    "        # Método para la selección de características en cada split\n",
    "        'max_features': ['auto', 'sqrt', 'log2'],  # 'auto': sqrt(num_features), 'sqrt': sqrt(num_features), 'log2': log2(num_features)\n",
    "\n",
    "        # Bootstrap muestras al construir árboles\n",
    "        'bootstrap': [True, False],  # True: usar bootstrap samples, False: usar el dataset completo\n",
    "    }"
   ]
  },
  {
   "cell_type": "code",
   "execution_count": 7,
   "id": "b5a9e3cd",
   "metadata": {},
   "outputs": [
    {
     "name": "stderr",
     "output_type": "stream",
     "text": [
      "c:\\Users\\Cesar\\Documents\\repositories\\cursos\\platzi\\curso_profesional_machine_learning\\.entorno\\Lib\\site-packages\\sklearn\\model_selection\\_validation.py:516: FitFailedWarning: \n",
      "3240 fits failed out of a total of 9720.\n",
      "The score on these train-test partitions for these parameters will be set to nan.\n",
      "If these failures are not expected, you can try to debug them by setting error_score='raise'.\n",
      "\n",
      "Below are more details about the failures:\n",
      "--------------------------------------------------------------------------------\n",
      "3240 fits failed with the following error:\n",
      "Traceback (most recent call last):\n",
      "  File \"c:\\Users\\Cesar\\Documents\\repositories\\cursos\\platzi\\curso_profesional_machine_learning\\.entorno\\Lib\\site-packages\\sklearn\\model_selection\\_validation.py\", line 859, in _fit_and_score\n",
      "    estimator.fit(X_train, y_train, **fit_params)\n",
      "  File \"c:\\Users\\Cesar\\Documents\\repositories\\cursos\\platzi\\curso_profesional_machine_learning\\.entorno\\Lib\\site-packages\\sklearn\\base.py\", line 1358, in wrapper\n",
      "    estimator._validate_params()\n",
      "  File \"c:\\Users\\Cesar\\Documents\\repositories\\cursos\\platzi\\curso_profesional_machine_learning\\.entorno\\Lib\\site-packages\\sklearn\\base.py\", line 471, in _validate_params\n",
      "    validate_parameter_constraints(\n",
      "  File \"c:\\Users\\Cesar\\Documents\\repositories\\cursos\\platzi\\curso_profesional_machine_learning\\.entorno\\Lib\\site-packages\\sklearn\\utils\\_param_validation.py\", line 98, in validate_parameter_constraints\n",
      "    raise InvalidParameterError(\n",
      "sklearn.utils._param_validation.InvalidParameterError: The 'max_features' parameter of RandomForestRegressor must be an int in the range [1, inf), a float in the range (0.0, 1.0], a str among {'log2', 'sqrt'} or None. Got 'auto' instead.\n",
      "\n",
      "  warnings.warn(some_fits_failed_message, FitFailedWarning)\n",
      "c:\\Users\\Cesar\\Documents\\repositories\\cursos\\platzi\\curso_profesional_machine_learning\\.entorno\\Lib\\site-packages\\sklearn\\model_selection\\_search.py:1135: UserWarning: One or more of the test scores are non-finite: [        nan         nan         nan ... -0.45858615 -0.43954459\n",
      " -0.42848604]\n",
      "  warnings.warn(\n"
     ]
    }
   ],
   "source": [
    "# Realizar la búsqueda en cuadrícula de hiperparámetros\n",
    "grid_est = GridSearchCV(reg, parametros, cv=5, scoring='neg_mean_absolute_error').fit(X, y)"
   ]
  },
  {
   "cell_type": "code",
   "execution_count": 8,
   "id": "ed3fb986",
   "metadata": {},
   "outputs": [
    {
     "name": "stdout",
     "output_type": "stream",
     "text": [
      "Mejor estimador:\n",
      "RandomForestRegressor(bootstrap=False, criterion='poisson', max_features='log2',\n",
      "                      min_samples_leaf=2, n_estimators=10)\n",
      "================================================================\n",
      "Mejores parámetros:\n",
      "{'bootstrap': False, 'criterion': 'poisson', 'max_depth': None, 'max_features': 'log2', 'min_samples_leaf': 2, 'min_samples_split': 2, 'n_estimators': 10}\n",
      "================================================================\n",
      "Predicción para el primer ejemplo del dataset:\n",
      "Predict:  [7.52695003]\n",
      "Real:    7.537000179\n"
     ]
    }
   ],
   "source": [
    "# Imprimir el mejor estimador encontrado\n",
    "print(\"Mejor estimador:\")\n",
    "print(grid_est.best_estimator_)\n",
    "print('=' * 64)\n",
    "# Imprimir los mejores parámetros encontrados\n",
    "print(\"Mejores parámetros:\")\n",
    "print(grid_est.best_params_)\n",
    "print('=' * 64)\n",
    "# Realizar una predicción utilizando el mejor modelo encontrado\n",
    "print(\"Predicción para el primer ejemplo del dataset:\")\n",
    "print('Predict: ', grid_est.predict(X.loc[[0]]))\n",
    "print(f'Real:    {y.loc[0]}')"
   ]
  },
  {
   "cell_type": "code",
   "execution_count": null,
   "id": "c9043887",
   "metadata": {},
   "outputs": [],
   "source": []
  }
 ],
 "metadata": {
  "kernelspec": {
   "display_name": ".entorno",
   "language": "python",
   "name": "python3"
  },
  "language_info": {
   "codemirror_mode": {
    "name": "ipython",
    "version": 3
   },
   "file_extension": ".py",
   "mimetype": "text/x-python",
   "name": "python",
   "nbconvert_exporter": "python",
   "pygments_lexer": "ipython3",
   "version": "3.11.9"
  }
 },
 "nbformat": 4,
 "nbformat_minor": 5
}
