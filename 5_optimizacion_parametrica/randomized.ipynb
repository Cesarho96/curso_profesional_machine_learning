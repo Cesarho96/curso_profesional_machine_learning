{
 "cells": [
  {
   "cell_type": "code",
   "execution_count": 1,
   "id": "64ba8a0c",
   "metadata": {},
   "outputs": [],
   "source": [
    "import pandas as pd\n",
    "from sklearn.model_selection import RandomizedSearchCV\n",
    "from sklearn.ensemble import RandomForestRegressor"
   ]
  },
  {
   "cell_type": "code",
   "execution_count": 2,
   "id": "0ee647b3",
   "metadata": {},
   "outputs": [],
   "source": [
    "dataset = pd.read_csv(\"../inputs/felicidad.csv\")\n",
    "# La razón de eliminar el rank y el score,\n",
    "# es porque se quiere que los features no tengan ninguna correlación entre ellos.\n",
    "# Lo ideal es que exista correlación solo entre las features y la variable objetivo.\n",
    "data = dataset.drop(['country', 'rank', 'score'], axis=1)\n",
    "target = dataset['score']\n",
    "reg = RandomForestRegressor()\n",
    "parameters = {\n",
    "    'n_estimators': range(4, 16),  # cuantos arboles compondrán mi arbol\n",
    "    'criterion': ['friedman_mse', 'squared_error', 'poisson', 'absolute_error'],\n",
    "    'max_depth': range(2, 11)\n",
    "}"
   ]
  },
  {
   "cell_type": "code",
   "execution_count": 4,
   "id": "3e6689c6",
   "metadata": {},
   "outputs": [
    {
     "name": "stdout",
     "output_type": "stream",
     "text": [
      "================================================================\n",
      "Mejores estimadores\n",
      "----------------------------------------------------------------\n",
      "RandomForestRegressor(criterion='absolute_error', max_depth=7, n_estimators=13)\n",
      "================================================================\n",
      "Mejores parámetros\n",
      "----------------------------------------------------------------\n",
      "{'n_estimators': 13, 'max_depth': 7, 'criterion': 'absolute_error'}\n",
      "================================================================\n",
      "Pruebas\n",
      "----------------------------------------------------------------\n",
      "Predict: 7.510538577846156\n",
      "Real:    7.537000179\n",
      "================================================================\n"
     ]
    }
   ],
   "source": [
    "# Son 10 iteraciones del optimizador. Toma 10 combinaciones al azar del diccionario\n",
    "# cv = 3, parte en 3 partes el set de datos que le pasemos, para hacer Cross validation\n",
    "rand_est = RandomizedSearchCV(reg, parameters, n_iter=20, cv=10, scoring='neg_mean_absolute_error', random_state=17)\n",
    "rand_est.fit(data, target)\n",
    "print('=' * 64)\n",
    "print(\"Mejores estimadores\")\n",
    "print('-' * 64)\n",
    "print(rand_est.best_estimator_)\n",
    "print('=' * 64)\n",
    "print(\"Mejores parámetros\")\n",
    "print('-' * 64)\n",
    "print(rand_est.best_params_)\n",
    "print('=' * 64)\n",
    "print('Pruebas')\n",
    "print('-' * 64)\n",
    "y_hat = rand_est.predict(data.loc[[0]])\n",
    "print(f'Predict: {y_hat[0]}')\n",
    "print(f'Real:    {target.loc[0]}')\n",
    "print('=' * 64)"
   ]
  },
  {
   "cell_type": "code",
   "execution_count": null,
   "id": "b8b52075",
   "metadata": {},
   "outputs": [],
   "source": []
  }
 ],
 "metadata": {
  "kernelspec": {
   "display_name": ".entorno",
   "language": "python",
   "name": "python3"
  },
  "language_info": {
   "codemirror_mode": {
    "name": "ipython",
    "version": 3
   },
   "file_extension": ".py",
   "mimetype": "text/x-python",
   "name": "python",
   "nbconvert_exporter": "python",
   "pygments_lexer": "ipython3",
   "version": "3.11.9"
  }
 },
 "nbformat": 4,
 "nbformat_minor": 5
}
